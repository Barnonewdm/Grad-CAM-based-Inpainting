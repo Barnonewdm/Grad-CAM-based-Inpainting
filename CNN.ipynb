{
 "cells": [
  {
   "cell_type": "markdown",
   "metadata": {
    "colab_type": "text",
    "id": "YHK6DyunSbs4"
   },
   "source": [
    "# Medical Image Classification\n",
    "## Solution 1: Building a Convnet from Scratch\n",
    "\n",
    "In this exercise, we will build a classifier model from scratch that is able to distinguish medical images. We will follow these steps:\n",
    "\n",
    "0. Prepare the data & model hyperparameters\n",
    "1. Explore the example data\n",
    "2. Build a small convnet from scratch to solve our classification problem\n",
    "3. Evaluate training and validation accuracy\n",
    "\n",
    "Let's go!"
   ]
  },
  {
   "cell_type": "markdown",
   "metadata": {
    "colab_type": "text",
    "id": "ttqtMLjpS7iu"
   },
   "source": [
    "##Prepare data to classicfication classes"
   ]
  },
  {
   "cell_type": "code",
   "execution_count": 5,
   "metadata": {},
   "outputs": [
    {
     "ename": "NameError",
     "evalue": "name 'i' is not defined",
     "output_type": "error",
     "traceback": [
      "\u001b[0;31m---------------------------------------------------------------------------\u001b[0m",
      "\u001b[0;31mNameError\u001b[0m                                 Traceback (most recent call last)",
      "\u001b[0;32m<ipython-input-5-50f986297b1f>\u001b[0m in \u001b[0;36m<module>\u001b[0;34m\u001b[0m\n\u001b[1;32m    102\u001b[0m     \u001b[0;32mfor\u001b[0m \u001b[0mi\u001b[0m\u001b[0;34m,\u001b[0m \u001b[0mj\u001b[0m \u001b[0;32min\u001b[0m \u001b[0mzip\u001b[0m\u001b[0;34m(\u001b[0m\u001b[0moriginal_paths\u001b[0m\u001b[0;34m,\u001b[0m \u001b[0mnew_paths\u001b[0m\u001b[0;34m)\u001b[0m\u001b[0;34m:\u001b[0m\u001b[0;34m\u001b[0m\u001b[0;34m\u001b[0m\u001b[0m\n\u001b[1;32m    103\u001b[0m         \u001b[0mcheck_dir\u001b[0m\u001b[0;34m(\u001b[0m\u001b[0mj\u001b[0m\u001b[0;34m)\u001b[0m \u001b[0;31m# check if destination directory exists, create if needed\u001b[0m\u001b[0;34m\u001b[0m\u001b[0;34m\u001b[0m\u001b[0m\n\u001b[0;32m--> 104\u001b[0;31m \u001b[0mshutil\u001b[0m\u001b[0;34m.\u001b[0m\u001b[0mcopy2\u001b[0m\u001b[0;34m(\u001b[0m\u001b[0mi\u001b[0m\u001b[0;34m,\u001b[0m \u001b[0mj\u001b[0m\u001b[0;34m)\u001b[0m\u001b[0;34m\u001b[0m\u001b[0;34m\u001b[0m\u001b[0m\n\u001b[0m\u001b[1;32m    105\u001b[0m \u001b[0;31m#train_test_split_dir(source=base_dir, destination=target_dir)\u001b[0m\u001b[0;34m\u001b[0m\u001b[0;34m\u001b[0m\u001b[0;34m\u001b[0m\u001b[0m\n\u001b[1;32m    106\u001b[0m \u001b[0;31m#train_test_split_dir(source=base_dir, destination=target_dir, test_prop=0.2)\u001b[0m\u001b[0;34m\u001b[0m\u001b[0;34m\u001b[0m\u001b[0;34m\u001b[0m\u001b[0m\n",
      "\u001b[0;31mNameError\u001b[0m: name 'i' is not defined"
     ]
    }
   ],
   "source": [
    "import os\n",
    "import shutil\n",
    "from glob import glob\n",
    "import random\n",
    "\n",
    "\n",
    "def shuffle2(data):\n",
    "    \"\"\"shuffle elements in data, but not in place\"\"\"\n",
    "    data2 = data[:]\n",
    "    random.shuffle(data2)\n",
    "    return data2\n",
    "\n",
    "\n",
    "def get_subdirs(base_dir):\n",
    "    \"\"\"get subdirectories\"\"\"\n",
    "    return [i for i in glob(base_dir + \"/*/\") if os.path.isdir(i)]\n",
    "\n",
    "\n",
    "def get_orig_struct(base_dir):\n",
    "    \"\"\"\n",
    "    Represent original file structure in a dictionary\n",
    "    \"\"\"\n",
    "    assert os.path.isdir(base_dir)\n",
    "    sub_dirs = get_subdirs(base_dir)\n",
    "    original_structure = {subd: os.listdir(subd) for subd in sub_dirs}\n",
    "    return original_structure\n",
    "\n",
    "\n",
    "def make_train_test_dict(orig_struct_dict, test_prop):\n",
    "    \"\"\"\n",
    "    Create dictionary representing train/test file structure\n",
    "    \"\"\"\n",
    "    assert isinstance(orig_struct_dict, dict)\n",
    "    new_struct = {\"training\": {}, \"validation\": {}}\n",
    "    for key, value in orig_struct_dict.items():\n",
    "        train_dat, test_dat = train_test_split(data=value, test_prop=test_prop)\n",
    "        new_struct[\"training\"].update({key: train_dat})\n",
    "        new_struct[\"validation\"].update({key: test_dat})\n",
    "    return new_struct\n",
    "\n",
    "\n",
    "def train_test_split(data, test_prop):\n",
    "    \"\"\"docstring\"\"\"\n",
    "    n_test = round(len(data) * test_prop)\n",
    "    n_train = len(data) - n_test\n",
    "    data = shuffle2(data)\n",
    "    train = data[:n_train]\n",
    "    test = data[-n_test:]\n",
    "    # check nothing's been lost\n",
    "    assert len(train) + len(test) == len(data)\n",
    "    return train, test\n",
    "\n",
    "\n",
    "def get_label(filename):\n",
    "    \"\"\"\n",
    "    get label from base_dir filename as seen in the dictionaries\n",
    "    e.g if the key is \"example/data/apples/\"\n",
    "        this will return \"apples\"\n",
    "    \"\"\"\n",
    "    return os.path.basename(os.path.normpath(filename))\n",
    "\n",
    "\n",
    "def check_dir(filename):\n",
    "    \"\"\"\n",
    "    Given a path, checks the sub-directories exists,\n",
    "    if not then tries to create them\n",
    "    \"\"\"\n",
    "    subdir_path = os.path.dirname(filename)\n",
    "    try:\n",
    "        os.makedirs(subdir_path)\n",
    "    except OSError:\n",
    "        if os.path.isdir(subdir_path):\n",
    "            pass\n",
    "        else:\n",
    "            err_msg = \"failed to create directory {}\".format(subdir_path)\n",
    "            raise RuntimeError(err_msg)\n",
    "\n",
    "\n",
    "def create_path_lists(source, destination, test_prop):\n",
    "    \"\"\"\n",
    "    Return two lists, the original filepaths, and the destination filepaths\n",
    "    Idea is to use shutil.copy2(source, destination) on each element of the \n",
    "    paired lists.\n",
    "    \"\"\"\n",
    "    orig_struct = get_orig_struct(base_dir=source)\n",
    "    train_test_dict = make_train_test_dict(orig_struct, test_prop)\n",
    "    original_path = []\n",
    "    new_path = []\n",
    "    for tt, subdict in train_test_dict.items():\n",
    "        for class_labels, files in subdict.items():\n",
    "            orig = [os.path.join(class_labels, i) for i in files]\n",
    "            dest = [os.path.join(destination, tt, get_label(class_labels), i) for i in files]\n",
    "            original_path.extend(orig)\n",
    "            new_path.extend(dest)\n",
    "    return original_path, new_path\n",
    "\n",
    "\n",
    "def train_test_split_dir(source, destination, test_prop=0.3):\n",
    "    original_paths, new_paths = create_path_lists(\n",
    "        source=source, destination=destination, test_prop=test_prop)\n",
    "    for i, j in zip(original_paths, new_paths):\n",
    "        check_dir(j) # check if destination directory exists, create if needed\n",
    "shutil.copy2(i, j)\n",
    "#train_test_split_dir(source=base_dir, destination=target_dir)\n",
    "#train_test_split_dir(source=base_dir, destination=target_dir, test_prop=0.2)\n",
    "#base_dir = target_dir"
   ]
  },
  {
   "cell_type": "code",
   "execution_count": 2,
   "metadata": {
    "colab": {},
    "colab_type": "code",
    "id": "YjPDjEi2TKYg"
   },
   "outputs": [],
   "source": [
    "#output dimension = 15\n",
    "class_names = ['Atelectasis', 'Cardiomegaly', 'Consolidation', 'Edema', 'Effusion', 'Emphysema', 'Fibrosis', 'Hernia', 'Infiltration', 'Mass', 'No Finding', 'Nodule', 'Pleural_Thickening', 'Pneumonia', 'Pneumothorax' ]\n",
    "#print 'You have %d image categories.' % len(class_names)\n",
    "img_width = 1024.\n",
    "img_height = 1024\n",
    "color_channels = 3\n",
    "aspect_ratio = img_width/img_height  #4:3\n",
    "#print 'The image aspect ratio (width divided by height) is %f.' %aspect_ratio"
   ]
  },
  {
   "cell_type": "markdown",
   "metadata": {
    "colab_type": "text",
    "id": "ymbsmK8IfcLu"
   },
   "source": [
    "##Set Model Hyperparameters\n",
    "\n",
    "*   Maximale Bildgröße\n",
    "*   Training Parameter\n",
    "\n"
   ]
  },
  {
   "cell_type": "code",
   "execution_count": 6,
   "metadata": {
    "colab": {},
    "colab_type": "code",
    "id": "n0SyYy5yfflG"
   },
   "outputs": [],
   "source": [
    "import tensorflow as tf\n",
    "from tensorflow.keras.optimizers import Adam\n",
    "base_dir = '/home/ente/Schreibtisch/2018 - 11 - sorted data'\n",
    "target_dir  = '/home/ente/Schreibtisch/data split'\n",
    "max_pixels = 299\n",
    "target_width = max_pixels\n",
    "target_height = max_pixels # 768*1.33 = 224 too keep aspect_ratio\n",
    "pooling_window = 2\n",
    "conv_window = 3\n",
    "kernel_size = 16\n",
    "activation = \"relu\"\n",
    "optimizer = 'Adam'\n",
    "loss='categorical_crossentropy'\n",
    "#metrics= ['acc']\n",
    "metrics=['categorical_accuracy']\n",
    "class_mode = 'categorical'\n",
    "batch_size = 20\n",
    "epochs = 15\n",
    "verbose = 2\n",
    "lr = 0.001"
   ]
  },
  {
   "cell_type": "markdown",
   "metadata": {
    "colab_type": "text",
    "id": "gGwZHhNAS7iq"
   },
   "source": [
    "## Explore the Example Data"
   ]
  },
  {
   "cell_type": "markdown",
   "metadata": {
    "colab_type": "text",
    "id": "j89qVEkwS7ip"
   },
   "source": [
    "Let's start by exploring our example data, they are locally stored in `/home/ente/Schreibtisch/`."
   ]
  },
  {
   "cell_type": "markdown",
   "metadata": {
    "colab_type": "text",
    "id": "K8odEHTcS7in"
   },
   "source": [
    "The base directory `/Users/mkunzmann/Desktop/sorted data/`, which contains `train` and `validation` subdirectories for the training and validation datasets (see the [Machine Learning Crash Course](https://developers.google.com/machine-learning/crash-course/validation/check-your-intuition) for a refresher on training, validation, and test sets), which in turn each contain `subclass` subdirectories. Let's define each of these directories:"
   ]
  },
  {
   "cell_type": "code",
   "execution_count": 7,
   "metadata": {
    "colab": {},
    "colab_type": "code",
    "id": "gNZQ65W4S7ik"
   },
   "outputs": [],
   "source": [
    "train_test_split_dir(source=base_dir, destination=target_dir)\n",
    "base_dir = target_dir\n",
    "\n",
    "import os\n",
    "train_dir = os.path.join(base_dir, 'training')\n",
    "validation_dir = os.path.join(base_dir, 'validation')\n",
    "# Directories with our training pictures\n",
    "train_ate_dir = os.path.join(train_dir, class_names[0])\n",
    "train_car_dir = os.path.join(train_dir, class_names[1])\n",
    "train_con_dir = os.path.join(train_dir, class_names[2])\n",
    "train_ede_dir = os.path.join(train_dir, class_names[3])\n",
    "train_eff_dir = os.path.join(train_dir, class_names[4])\n",
    "\n",
    "train_emp_dir = os.path.join(train_dir, class_names[5])\n",
    "train_fib_dir = os.path.join(train_dir, class_names[6])\n",
    "train_her_dir = os.path.join(train_dir, class_names[7])\n",
    "train_inf_dir = os.path.join(train_dir, class_names[8])\n",
    "train_mas_dir = os.path.join(train_dir, class_names[9])\n",
    "\n",
    "train_nof_dir = os.path.join(train_dir, class_names[10])\n",
    "train_nod_dir = os.path.join(train_dir, class_names[11])\n",
    "train_ple_dir = os.path.join(train_dir, class_names[12])\n",
    "train_pne_dir = os.path.join(train_dir, class_names[13])\n",
    "train_pn2_dir = os.path.join(train_dir, class_names[14])\n",
    "\n",
    "# Directories with our validation pictures\n",
    "validation_ate_dir = os.path.join(validation_dir, class_names[0])\n",
    "validation_car_dir = os.path.join(validation_dir, class_names[1])\n",
    "validation_con_dir = os.path.join(validation_dir, class_names[2])\n",
    "validation_ede_dir = os.path.join(validation_dir, class_names[3])\n",
    "validation_eff_dir = os.path.join(validation_dir, class_names[4])\n",
    "\n",
    "validation_emp_dir = os.path.join(validation_dir, class_names[5])\n",
    "validation_fib_dir = os.path.join(validation_dir, class_names[6])\n",
    "validation_her_dir = os.path.join(validation_dir, class_names[7])\n",
    "validation_inf_dir = os.path.join(validation_dir, class_names[8])\n",
    "validation_mas_dir = os.path.join(validation_dir, class_names[9])\n",
    "\n",
    "validation_nof_dir = os.path.join(validation_dir, class_names[10])\n",
    "validation_nod_dir = os.path.join(validation_dir, class_names[11])\n",
    "validation_ple_dir = os.path.join(validation_dir, class_names[12])\n",
    "validation_pne_dir = os.path.join(validation_dir, class_names[13])\n",
    "validation_pn2_dir = os.path.join(validation_dir, class_names[14])\n"
   ]
  },
  {
   "cell_type": "markdown",
   "metadata": {
    "colab_type": "text",
    "id": "lPp4QvQPS7ih"
   },
   "source": [
    "Now, let's see what the filenames look like in the `cats` and `dogs` `train` directories (file naming conventions are the same in the `validation` directory):"
   ]
  },
  {
   "cell_type": "code",
   "execution_count": 8,
   "metadata": {
    "colab": {
     "base_uri": "https://localhost:8080/",
     "height": 254
    },
    "colab_type": "code",
    "id": "v1RdNLm-S7ie",
    "outputId": "4256cace-6bbb-47d7-8f18-212e80393d16"
   },
   "outputs": [
    {
     "name": "stdout",
     "output_type": "stream",
     "text": [
      "[]\n",
      "[]\n"
     ]
    }
   ],
   "source": [
    "train_ate_fnames = os.listdir(train_ate_dir)\n",
    "train_car_fnames = os.listdir(train_car_dir)\n",
    "train_con_fnames = os.listdir(train_con_dir)\n",
    "train_ede_fnames = os.listdir(train_ede_dir)\n",
    "train_eff_fnames = os.listdir(train_eff_dir)\n",
    "\n",
    "train_emp_fnames = os.listdir(train_emp_dir)\n",
    "train_fib_fnames = os.listdir(train_fib_dir)\n",
    "train_her_fnames = os.listdir(train_her_dir)\n",
    "train_inf_fnames = os.listdir(train_inf_dir)\n",
    "train_mas_fnames = os.listdir(train_mas_dir)\n",
    "\n",
    "train_nof_fnames = os.listdir(train_nof_dir)\n",
    "train_nod_fnames = os.listdir(train_nod_dir)\n",
    "train_ple_fnames = os.listdir(train_ple_dir)\n",
    "train_pne_fnames = os.listdir(train_pne_dir)\n",
    "train_pn2_fnames = os.listdir(train_pn2_dir)\n",
    "\n",
    "print (train_ate_fnames[:10])\n",
    "train_car_fnames.sort()\n",
    "print (train_car_fnames[:10])\n"
   ]
  },
  {
   "cell_type": "markdown",
   "metadata": {
    "colab_type": "text",
    "id": "Rgcqv3U0S7id"
   },
   "source": [
    "Let's find out the total number of all class-images in the `train` and `validation` directories:"
   ]
  },
  {
   "cell_type": "code",
   "execution_count": 9,
   "metadata": {
    "colab": {},
    "colab_type": "code",
    "id": "dhyyWQ55S7iZ"
   },
   "outputs": [
    {
     "name": "stdout",
     "output_type": "stream",
     "text": [
      "total train/validation Atelectasis images:        0 / 0\n",
      "total train/validation Cardiomegaly images:       0 / 0\n",
      "total train/validation Consolidation images:      0 / 0\n",
      "total train/validation Edema images:              0 / 0\n",
      "total train/validation Effusion images:           0 / 0\n",
      "total train/validation Emphysema images:          0 / 0\n",
      "total train/validation Fibrosis images:           0 / 0\n",
      "total train/validation Hernia images:             0 / 0\n",
      "total train/validation Infiltration images:       0 / 0\n",
      "total train/validation Mass images:               0 / 0\n",
      "total train/validation No_Finding images:         0 / 0\n",
      "total train/validation Nodule images:             0 / 0\n",
      "total train/validation Pleural_Thickening images: 0 / 0\n",
      "total train/validation Pneumonia images:          0 / 0\n",
      "total train/validation Pneumothorax images:       0 / 0\n"
     ]
    }
   ],
   "source": [
    "print ('total train/validation Atelectasis images:       ', len(os.listdir(train_ate_dir)), '/', len(os.listdir(validation_ate_dir))) \n",
    "print ('total train/validation Cardiomegaly images:      ', len(os.listdir(train_car_dir)), '/', len(os.listdir(validation_car_dir))) \n",
    "print ('total train/validation Consolidation images:     ', len(os.listdir(train_con_dir)), '/', len(os.listdir(validation_con_dir))) \n",
    "print ('total train/validation Edema images:             ', len(os.listdir(train_ede_dir)), '/', len(os.listdir(validation_ede_dir))) \n",
    "print ('total train/validation Effusion images:          ', len(os.listdir(train_eff_dir)), '/', len(os.listdir(validation_eff_dir))) \n",
    "\n",
    "print ('total train/validation Emphysema images:         ', len(os.listdir(train_emp_dir)), '/', len(os.listdir(validation_emp_dir))) \n",
    "print ('total train/validation Fibrosis images:          ', len(os.listdir(train_fib_dir)), '/', len(os.listdir(validation_fib_dir))) \n",
    "print ('total train/validation Hernia images:            ', len(os.listdir(train_her_dir)), '/', len(os.listdir(validation_her_dir))) \n",
    "print ('total train/validation Infiltration images:      ', len(os.listdir(train_inf_dir)), '/', len(os.listdir(validation_inf_dir))) \n",
    "print ('total train/validation Mass images:              ', len(os.listdir(train_mas_dir)), '/', len(os.listdir(validation_mas_dir))) \n",
    "\n",
    "print ('total train/validation No_Finding images:        ', len(os.listdir(train_nof_dir)), '/', len(os.listdir(validation_nof_dir))) \n",
    "print ('total train/validation Nodule images:            ', len(os.listdir(train_nod_dir)), '/', len(os.listdir(validation_nod_dir))) \n",
    "print ('total train/validation Pleural_Thickening images:', len(os.listdir(train_ple_dir)), '/', len(os.listdir(validation_ple_dir))) \n",
    "print ('total train/validation Pneumonia images:         ', len(os.listdir(train_pne_dir)), '/', len(os.listdir(validation_pne_dir))) \n",
    "print ('total train/validation Pneumothorax images:      ', len(os.listdir(train_pn2_dir)), '/', len(os.listdir(validation_pn2_dir))) "
   ]
  },
  {
   "cell_type": "markdown",
   "metadata": {
    "colab_type": "text",
    "id": "Ozv_Rfxnu24E"
   },
   "source": [
    "For both cats and dogs, we have 1,000 training images and 500 test images.\n",
    "\n",
    "Now let's take a look at a few pictures to get a better sense of what the cat and dog datasets look like. First, configure the matplot parameters:"
   ]
  },
  {
   "cell_type": "code",
   "execution_count": null,
   "metadata": {
    "colab": {},
    "colab_type": "code",
    "id": "a8zrGvXGS7iW"
   },
   "outputs": [],
   "source": [
    "%matplotlib inline\n",
    "\n",
    "import matplotlib.pyplot as plt\n",
    "import matplotlib.image as mpimg\n",
    "\n",
    "# Parameters for our graph; we'll output images in a 15x4 configuration\n",
    "nrows = 15\n",
    "#nrows = 2\n",
    "ncols = 4\n",
    "\n",
    "# Index for iterating over images\n",
    "pic_index = 0\n"
   ]
  },
  {
   "cell_type": "markdown",
   "metadata": {
    "colab_type": "text",
    "id": "g_U4co-PS7iV"
   },
   "source": [
    "Now, display a batch of 8 cat and 8 dog pictures. You can rerun the cell to see a fresh batch each time:"
   ]
  },
  {
   "cell_type": "code",
   "execution_count": null,
   "metadata": {
    "colab": {},
    "colab_type": "code",
    "id": "1deZaErRS7iT"
   },
   "outputs": [],
   "source": [
    "# Set up matplotlib fig, and size it to fit 4x4 pics\n",
    "fig = plt.gcf()\n",
    "fig.set_size_inches(ncols * 4, nrows * 4)\n",
    "\n",
    "pic_index += 8\n",
    "next_ate_pix = [os.path.join(train_ate_dir, fname) \n",
    "                for fname in train_ate_fnames[pic_index-8:pic_index]]\n",
    "next_car_pix = [os.path.join(train_car_dir, fname) \n",
    "                for fname in train_car_fnames[pic_index-8:pic_index]]\n",
    "\n",
    "for i, img_path in enumerate(next_ate_pix+next_car_pix):\n",
    "  # Set up subplot; subplot indices start at 1\n",
    "  sp = plt.subplot(nrows, ncols, i + 1)\n",
    "  sp.axis('Off') # Don't show axes (or gridlines)\n",
    "\n",
    "  img = mpimg.imread(img_path)\n",
    "  plt.imshow(img)\n",
    "\n",
    "plt.show()\n"
   ]
  },
  {
   "cell_type": "markdown",
   "metadata": {
    "colab_type": "text",
    "id": "9OjS51JQS7iS"
   },
   "source": [
    "## Building a Small Convnet from Scratch to Get to 72% Accuracy\n",
    "\n",
    "The images that will go into our convnet are 1024x1024 color images (in the next section on Data Preprocessing, we'll add handling to resize all the images to 299x299 before feeding them into the neural network).\n",
    "\n",
    "Let's code up the architecture. We will stack 3 {convolution + relu + maxpooling} modules. Our convolutions operate on 3x3 windows and our maxpooling layers operate on 2x2 windows. Our first convolution extracts 16 filters, the following one extracts 32 filters, and the last one extracts 64 filters.\n",
    "\n",
    "**NOTE**: This is a configuration that is widely used and known to work well for image classification. Also, since we have relatively few training examples (1,000), using just three convolutional modules keeps the model small, which lowers the risk of overfitting (which we'll explore in more depth in Exercise 2.)"
   ]
  },
  {
   "cell_type": "code",
   "execution_count": 10,
   "metadata": {
    "colab": {},
    "colab_type": "code",
    "id": "LjoxR_FVS7iQ"
   },
   "outputs": [],
   "source": [
    "from tensorflow.keras import layers\n",
    "from tensorflow.keras import Model"
   ]
  },
  {
   "cell_type": "code",
   "execution_count": 11,
   "metadata": {
    "colab": {},
    "colab_type": "code",
    "id": "WAsZ2OlJS7iN"
   },
   "outputs": [],
   "source": [
    "# Our input feature map is 150x150x3: 150x150 for the image pixels, and 3 for\n",
    "# the three color channels: R, G, and B\n",
    "#img_input = layers.Input(shape=(150, 150, 3))\n",
    "img_input = layers.Input(shape=(img_width, img_height, color_channels))\n",
    "\n",
    "# First convolution extracts 16 filters that are 3x3\n",
    "# Convolution is followed by max-pooling layer with a 2x2 window\n",
    "x = layers.Conv2D(kernel_size, conv_window, activation=activation)(img_input)\n",
    "x = layers.MaxPooling2D(pooling_window)(x)\n",
    "\n",
    "# Second convolution extracts 32 filters that are 3x3\n",
    "# Convolution is followed by max-pooling layer with a 2x2 window\n",
    "x = layers.Conv2D(2*kernel_size, conv_window, activation=activation)(x)\n",
    "x = layers.MaxPooling2D(pooling_window)(x)\n",
    "\n",
    "# Third convolution extracts 64 filters that are 3x3\n",
    "# Convolution is followed by max-pooling layer with a 2x2 window\n",
    "x = layers.Conv2D(4*kernel_size, conv_window, activation=activation)(x)\n",
    "x = layers.MaxPooling2D(pooling_window)(x)"
   ]
  },
  {
   "cell_type": "markdown",
   "metadata": {
    "colab_type": "text",
    "id": "r5sKKe30S7iM"
   },
   "source": [
    "On top of it we stick two fully-connected layers. Because we are facing a two-class classification problem, i.e. a *binary classification problem*, we will end our network with a [*sigmoid* activation](https://wikipedia.org/wiki/Sigmoid_function), so that the output of our network will be a single scalar between 0 and 1, encoding the probability that the current image is class 1 (as opposed to class 0)."
   ]
  },
  {
   "cell_type": "code",
   "execution_count": 12,
   "metadata": {
    "colab": {},
    "colab_type": "code",
    "id": "L9_OMfd_S7iJ"
   },
   "outputs": [],
   "source": [
    "# Flatten feature map to a 1-dim tensor so we can add fully connected layers\n",
    "x = layers.Flatten()(x)\n",
    "\n",
    "# Create a fully connected layer with ReLU activation and 512 hidden units\n",
    "x = layers.Dense(512, activation=activation)(x)\n",
    "\n",
    "# Create output layer with a single node and sigmoid activation\n",
    "#output = layers.Dense(1, activation='sigmoid')(x)\n",
    "output = layers.Dense(len(class_names), activation = 'softmax') (x)\n",
    "\n",
    "\n",
    "# Create model:\n",
    "# input = input feature map\n",
    "# output = input feature map + stacked convolution/maxpooling layers + fully \n",
    "# connected layer + sigmoid output layer\n",
    "model = Model(img_input, output)"
   ]
  },
  {
   "cell_type": "markdown",
   "metadata": {
    "colab_type": "text",
    "id": "MflIuPWOS7iI"
   },
   "source": [
    "Let's summarize the model architecture:"
   ]
  },
  {
   "cell_type": "code",
   "execution_count": 13,
   "metadata": {
    "colab": {
     "base_uri": "https://localhost:8080/",
     "height": 485
    },
    "colab_type": "code",
    "id": "LTIhsIGgS7iD",
    "outputId": "4355d4b5-e18c-41d5-b0d9-0b1492ec8258"
   },
   "outputs": [
    {
     "name": "stdout",
     "output_type": "stream",
     "text": [
      "_________________________________________________________________\n",
      "Layer (type)                 Output Shape              Param #   \n",
      "=================================================================\n",
      "input_1 (InputLayer)         (None, 1024, 1024, 3)     0         \n",
      "_________________________________________________________________\n",
      "conv2d (Conv2D)              (None, 1022, 1022, 16)    448       \n",
      "_________________________________________________________________\n",
      "max_pooling2d (MaxPooling2D) (None, 511, 511, 16)      0         \n",
      "_________________________________________________________________\n",
      "conv2d_1 (Conv2D)            (None, 509, 509, 32)      4640      \n",
      "_________________________________________________________________\n",
      "max_pooling2d_1 (MaxPooling2 (None, 254, 254, 32)      0         \n",
      "_________________________________________________________________\n",
      "conv2d_2 (Conv2D)            (None, 252, 252, 64)      18496     \n",
      "_________________________________________________________________\n",
      "max_pooling2d_2 (MaxPooling2 (None, 126, 126, 64)      0         \n",
      "_________________________________________________________________\n",
      "flatten (Flatten)            (None, 1016064)           0         \n",
      "_________________________________________________________________\n",
      "dense (Dense)                (None, 512)               520225280 \n",
      "_________________________________________________________________\n",
      "dense_1 (Dense)              (None, 15)                7695      \n",
      "=================================================================\n",
      "Total params: 520,256,559\n",
      "Trainable params: 520,256,559\n",
      "Non-trainable params: 0\n",
      "_________________________________________________________________\n"
     ]
    }
   ],
   "source": [
    "model.summary()"
   ]
  },
  {
   "cell_type": "markdown",
   "metadata": {
    "colab_type": "text",
    "id": "Bu1kDL-9S7iC"
   },
   "source": [
    "The \"output shape\" column shows how the size of your feature map evolves in each successive layer. The convolution layers reduce the size of the feature maps by a bit due to padding, and each pooling layer halves the feature map."
   ]
  },
  {
   "cell_type": "markdown",
   "metadata": {
    "colab_type": "text",
    "id": "2OOs61ZrS7iB"
   },
   "source": [
    "Next, we'll configure the specifications for model training. We will train our model with the `binary_crossentropy` loss, because it's a binary classification problem and our final activation is a sigmoid. (For a refresher on loss metrics, see the [Machine Learning Crash Course](https://developers.google.com/machine-learning/crash-course/descending-into-ml/video-lecture).) We will use the `rmsprop` optimizer with a learning rate of `0.001`. During training, we will want to monitor classification accuracy.\n",
    "\n",
    "**NOTE**: In this case, using the [RMSprop optimization algorithm](https://wikipedia.org/wiki/Stochastic_gradient_descent#RMSProp) is preferable to [stochastic gradient descent](https://developers.google.com/machine-learning/glossary/#SGD) (SGD), because RMSprop automates learning-rate tuning for us. (Other optimizers, such as [Adam](https://wikipedia.org/wiki/Stochastic_gradient_descent#Adam) and [Adagrad](https://developers.google.com/machine-learning/glossary/#AdaGrad), also automatically adapt the learning rate during training, and would work equally well here.)"
   ]
  },
  {
   "cell_type": "code",
   "execution_count": 14,
   "metadata": {
    "colab": {},
    "colab_type": "code",
    "id": "akzlNJyMS7h_"
   },
   "outputs": [],
   "source": [
    "#from tensorflow.keras.optimizers import RMSprop\n",
    "\n",
    "#model.compile(loss='binary_crossentropy',\n",
    "#              optimizer=RMSprop(lr=0.001),\n",
    "#              metrics=['acc'])\n",
    "\n",
    "model.compile(loss=loss,\n",
    "              optimizer=optimizer,\n",
    "              metrics=metrics)"
   ]
  },
  {
   "cell_type": "markdown",
   "metadata": {
    "colab_type": "text",
    "id": "o9FcBXUZS7h-"
   },
   "source": [
    "### Data Preprocessing\n",
    "\n",
    "Let's set up data generators that will read pictures in our source folders, convert them to `float32` tensors, and feed them (with their labels) to our network. We'll have one generator for the training images and one for the validation images. Our generators will yield batches of 20 images of size 150x150 and their labels (binary).\n",
    "\n",
    "As you may already know, data that goes into neural networks should usually be normalized in some way to make it more amenable to processing by the network. (It is uncommon to feed raw pixels into a convnet.) In our case, we will preprocess our images by normalizing the pixel values to be in the `[0, 1]` range (originally all values are in the `[0, 255]` range).\n",
    "\n",
    "In Keras this can be done via the `keras.preprocessing.image.ImageDataGenerator` class using the `rescale` parameter. This `ImageDataGenerator` class allows you to instantiate generators of augmented image batches (and their labels) via `.flow(data, labels)` or `.flow_from_directory(directory)`. These generators can then be used with the Keras model methods that accept data generators as inputs: `fit_generator`, `evaluate_generator`, and `predict_generator`."
   ]
  },
  {
   "cell_type": "code",
   "execution_count": 15,
   "metadata": {
    "colab": {
     "base_uri": "https://localhost:8080/",
     "height": 486
    },
    "colab_type": "code",
    "id": "Db8prNwPS7h8",
    "outputId": "4896dc38-baae-4765-ee8b-868edb0db08c"
   },
   "outputs": [
    {
     "ename": "SyntaxError",
     "evalue": "invalid syntax (<ipython-input-15-4851ae9106c6>, line 27)",
     "output_type": "error",
     "traceback": [
      "\u001b[0;36m  File \u001b[0;32m\"<ipython-input-15-4851ae9106c6>\"\u001b[0;36m, line \u001b[0;32m27\u001b[0m\n\u001b[0;31m    subset='validation') # set as validation data\u001b[0m\n\u001b[0m         ^\u001b[0m\n\u001b[0;31mSyntaxError\u001b[0m\u001b[0;31m:\u001b[0m invalid syntax\n"
     ]
    }
   ],
   "source": [
    "from tensorflow.keras.preprocessing.image import ImageDataGenerator\n",
    "\n",
    "# All images will be rescaled by 1./255\n",
    "# Flow training images in batches of 20 using train_datagen generator\n",
    "train_datagen = ImageDataGenerator(rescale=1./255,\n",
    "    #shear_range=0.2,\n",
    "    #zoom_range=0.2,\n",
    "    #horizontal_flip=True,\n",
    "    validation_split=0.2) # set validation split\n",
    "\n",
    "#test data will not be augmented\n",
    "test_datagen = ImageDataGenerator(rescale=1./255)\n",
    "\n",
    "train_generator = train_datagen.flow_from_directory(\n",
    "    train_dir,\n",
    "    target_size=(target_height, target_width),\n",
    "    batch_size=batch_size,\n",
    "    class_mode=class_mode,\n",
    "    subset='training') # set as training data\n",
    "\n",
    "validation_generator = test_datagen.flow_from_directory(\n",
    "    #train_dir, # same directory as training data\n",
    "    validation_dir,\n",
    "    target_size=(target_height, target_width),\n",
    "    batch_size=batch_size,\n",
    "    class_mode=class_mode\n",
    "    subset='validation') # set as validation data\n"
   ]
  },
  {
   "cell_type": "markdown",
   "metadata": {
    "colab_type": "text",
    "id": "pIAIUXXYS7h7"
   },
   "source": [
    "### Training\n",
    "Let's train on all 2,000 images available, for 15 epochs, and validate on all 1,000 test images. (This may take a few minutes to run.)"
   ]
  },
  {
   "cell_type": "code",
   "execution_count": null,
   "metadata": {
    "colab": {
     "base_uri": "https://localhost:8080/",
     "height": 247
    },
    "colab_type": "code",
    "id": "ryQKw8mCS7h4",
    "outputId": "406698d6-5b20-44c5-8834-0a2520310fc8"
   },
   "outputs": [],
   "source": [
    "history = model.fit_generator(\n",
    "    train_generator,\n",
    "    steps_per_epoch = train_generator.samples // batch_size,\n",
    "    validation_data = validation_generator, \n",
    "    validation_steps = validation_generator.samples // batch_size,\n",
    "    epochs = epochs)"
   ]
  },
  {
   "cell_type": "markdown",
   "metadata": {
    "colab_type": "text",
    "id": "QD3QSFHBS7h3"
   },
   "source": [
    "### Visualizing Intermediate Representations\n",
    "\n",
    "To get a feel for what kind of features our convnet has learned, one fun thing to do is to visualize how an input gets transformed as it goes through the convnet.\n",
    "\n",
    "Let's pick a random cat or dog image from the training set, and then generate a figure where each row is the output of a layer, and each image in the row is a specific filter in that output feature map. Rerun this cell to generate intermediate representations for a variety of training images."
   ]
  },
  {
   "cell_type": "code",
   "execution_count": null,
   "metadata": {
    "colab": {},
    "colab_type": "code",
    "id": "Tmdo7TzrS7h0"
   },
   "outputs": [],
   "source": [
    "import numpy as np\n",
    "import random\n",
    "from tensorflow.keras.preprocessing.image import img_to_array, load_img\n",
    "\n",
    "# Let's define a new Model that will take an image as input, and will output\n",
    "# intermediate representations for all layers in the previous model after\n",
    "# the first.\n",
    "successive_outputs = [layer.output for layer in model.layers[1:]]\n",
    "visualization_model = Model(img_input, successive_outputs)\n",
    "\n",
    "# Let's prepare a random input image of a cat or dog from the training set.\n",
    "cat_img_files = [os.path.join(train_cats_dir, f) for f in train_cat_fnames]\n",
    "dog_img_files = [os.path.join(train_dogs_dir, f) for f in train_dog_fnames]\n",
    "img_path = random.choice(cat_img_files + dog_img_files)\n",
    "\n",
    "img = load_img(img_path, target_size=(150, 150))  # this is a PIL image\n",
    "x = img_to_array(img)  # Numpy array with shape (150, 150, 3)\n",
    "x = x.reshape((1,) + x.shape)  # Numpy array with shape (1, 150, 150, 3)\n",
    "\n",
    "# Rescale by 1/255\n",
    "x /= 255\n",
    "\n",
    "# Let's run our image through our network, thus obtaining all\n",
    "# intermediate representations for this image.\n",
    "successive_feature_maps = visualization_model.predict(x)\n",
    "\n",
    "# These are the names of the layers, so can have them as part of our plot\n",
    "layer_names = [layer.name for layer in model.layers]\n",
    "\n",
    "# Now let's display our representations\n",
    "for layer_name, feature_map in zip(layer_names, successive_feature_maps):\n",
    "  if len(feature_map.shape) == 4:\n",
    "    # Just do this for the conv / maxpool layers, not the fully-connected layers\n",
    "    n_features = feature_map.shape[-1]  # number of features in feature map\n",
    "    # The feature map has shape (1, size, size, n_features)\n",
    "    size = feature_map.shape[1]\n",
    "    # We will tile our images in this matrix\n",
    "    display_grid = np.zeros((size, size * n_features))\n",
    "    for i in range(n_features):\n",
    "      # Postprocess the feature to make it visually palatable\n",
    "      x = feature_map[0, :, :, i]\n",
    "      x -= x.mean()\n",
    "      x /= x.std()\n",
    "      x *= 64\n",
    "      x += 128\n",
    "      x = np.clip(x, 0, 255).astype('uint8')\n",
    "      # We'll tile each filter into this big horizontal grid\n",
    "      display_grid[:, i * size : (i + 1) * size] = x\n",
    "    # Display the grid\n",
    "    scale = 20. / n_features\n",
    "    plt.figure(figsize=(scale * n_features, scale))\n",
    "    plt.title(layer_name)\n",
    "    plt.grid(False)\n",
    "    plt.imshow(display_grid, aspect='auto', cmap='viridis')"
   ]
  },
  {
   "cell_type": "markdown",
   "metadata": {
    "colab_type": "text",
    "id": "lgCwecDcS7hz"
   },
   "source": [
    "As you can see we go from the raw pixels of the images to increasingly abstract and compact representations. The representations downstream start highlighting what the network pays attention to, and they show fewer and fewer features being \"activated\"; most are set to zero. This is called \"sparsity.\" Representation sparsity is a key feature of deep learning.\n",
    "\n",
    "\n",
    "These representations carry increasingly less information about the original pixels of the image, but increasingly refined information about the class of the image. You can think of a convnet (or a deep network in general) as an information distillation pipeline."
   ]
  },
  {
   "cell_type": "markdown",
   "metadata": {
    "colab_type": "text",
    "id": "47oywZHbS7hy"
   },
   "source": [
    "### Evaluating Accuracy and Loss for the Model\n",
    "\n",
    "Let's plot the training/validation accuracy and loss as collected during training:"
   ]
  },
  {
   "cell_type": "code",
   "execution_count": null,
   "metadata": {
    "colab": {},
    "colab_type": "code",
    "id": "r-QSJl_LS7hv"
   },
   "outputs": [],
   "source": [
    "# Retrieve a list of accuracy results on training and test data\n",
    "# sets for each training epoch\n",
    "acc = history.history['acc']\n",
    "val_acc = history.history['val_acc']\n",
    "\n",
    "# Retrieve a list of list results on training and test data\n",
    "# sets for each training epoch\n",
    "loss = history.history['loss']\n",
    "val_loss = history.history['val_loss']\n",
    "\n",
    "# Get number of epochs\n",
    "epochs = range(len(acc))\n",
    "\n",
    "# Plot training and validation accuracy per epoch\n",
    "plt.plot(epochs, acc)\n",
    "plt.plot(epochs, val_acc)\n",
    "plt.title('Training and validation accuracy')\n",
    "\n",
    "plt.figure()\n",
    "\n",
    "# Plot training and validation loss per epoch\n",
    "plt.plot(epochs, loss)\n",
    "plt.plot(epochs, val_loss)\n",
    "plt.title('Training and validation loss')"
   ]
  },
  {
   "cell_type": "markdown",
   "metadata": {
    "colab_type": "text",
    "id": "Ob_y8B1zS7hu"
   },
   "source": [
    "As you can see, we are **overfitting** like it's getting out of fashion. Our training accuracy (in blue) gets close to 100% (!) while our validation accuracy (in green) stalls as 70%. Our validation loss reaches its minimum after only five epochs.\n",
    "\n",
    "Since we have a relatively small number of training examples (2000), overfitting should be our number one concern. Overfitting happens when a model exposed to too few examples learns patterns that do not generalize to new data, i.e. when the model starts using irrelevant features for making predictions. For instance, if you, as a human, only see three images of people who are lumberjacks, and three images of people who are sailors, and among them the only person wearing a cap is a lumberjack, you might start thinking that wearing a cap is a sign of being a lumberjack as opposed to a sailor. You would then make a pretty lousy lumberjack/sailor classifier.\n",
    "\n",
    "Overfitting is the central problem in machine learning: given that we are fitting the parameters of our model to a given dataset, how can we make sure that the representations learned by the model will be applicable to data never seen before? How do we avoid learning things that are specific to the training data?\n",
    "\n",
    "In the next exercise, we'll look at ways to prevent overfitting in the cat vs. dog classification model."
   ]
  },
  {
   "cell_type": "markdown",
   "metadata": {
    "colab_type": "text",
    "id": "yvlm1GZWS7hs"
   },
   "source": [
    "## Clean Up\n",
    "\n",
    "Before running the next exercise, run the following cell to terminate the kernel and free memory resources:"
   ]
  },
  {
   "cell_type": "code",
   "execution_count": null,
   "metadata": {
    "colab": {},
    "colab_type": "code",
    "id": "1aLOf7R7S7hm"
   },
   "outputs": [],
   "source": [
    "import os, signal\n",
    "os.kill(os.getpid(), signal.SIGKILL)"
   ]
  },
  {
   "cell_type": "markdown",
   "metadata": {
    "colab_type": "text",
    "id": "cxcU1LpPTj4J"
   },
   "source": []
  }
 ],
 "metadata": {
  "accelerator": "GPU",
  "colab": {
   "collapsed_sections": [
    "QD3QSFHBS7h3",
    "yvlm1GZWS7hs"
   ],
   "name": "Thesis#1.ipynb",
   "provenance": [],
   "version": "0.3.2"
  },
  "kernelspec": {
   "display_name": "Python 3",
   "language": "python",
   "name": "python3"
  },
  "language_info": {
   "codemirror_mode": {
    "name": "ipython",
    "version": 3
   },
   "file_extension": ".py",
   "mimetype": "text/x-python",
   "name": "python",
   "nbconvert_exporter": "python",
   "pygments_lexer": "ipython3",
   "version": "3.6.8"
  }
 },
 "nbformat": 4,
 "nbformat_minor": 1
}
