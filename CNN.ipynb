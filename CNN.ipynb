{
 "cells": [
  {
   "cell_type": "markdown",
   "metadata": {
    "colab_type": "text",
    "id": "YHK6DyunSbs4"
   },
   "source": [
    "# Medical Image Classification\n",
    "## Solution 1: Building a Convnet from Scratch\n",
    "\n",
    "In this exercise, we will build a classifier model from scratch that is able to distinguish medical images. We will follow these steps:\n",
    "\n",
    "1. Prepare the data & model hyperparameters\n",
    "2. Explore the data\n",
    "3. Build a small convnet from scratch to solve our classification problem\n",
    "4. Evaluate training and validation accuracy\n",
    "\n",
    "Let's go!"
   ]
  },
  {
   "cell_type": "markdown",
   "metadata": {
    "colab_type": "text",
    "id": "ttqtMLjpS7iu"
   },
   "source": [
    "## Prepare data to classicfication classes, set Hyperparams"
   ]
  },
  {
   "cell_type": "code",
   "execution_count": 1,
   "metadata": {
    "colab": {},
    "colab_type": "code",
    "id": "YjPDjEi2TKYg"
   },
   "outputs": [],
   "source": [
    "import os\n",
    "import numpy as np\n",
    "import SimpleITK as sitk\n",
    "from matplotlib import pyplot as plt\n",
    "os.environ['CUDA_VISIBLE_DEVICES'] = str(1)\n",
    "base_dir = '/data/wdm_Projects/X-ray-images-classification-with-Keras-TensorFlow/data'\n",
    "class_names = ['CT','Probe']\n",
    "img_width = img_height = 512\n",
    "color_channels = 3\n",
    "\n",
    "#layers & optimizer\n",
    "target_width = target_height = 512\n",
    "target_size = (128, 128, 128)#(30, 256, 256)#(100,306,386)#(100, 306, 386)\n",
    "pooling_window = 2\n",
    "conv_window = 3\n",
    "kernel_size = 4\n",
    "dropout=0.01\n",
    "activation = \"relu\"\n",
    "optimizer = 'Adam'\n",
    "loss='categorical_crossentropy'\n",
    "#metrics= ['acc']\n",
    "metrics=['categorical_accuracy']\n",
    "class_mode = 'categorical'\n",
    "batch_size = 200\n",
    "epochs = 100\n",
    "verbose = 2\n",
    "lr = 0.0001"
   ]
  },
  {
   "cell_type": "markdown",
   "metadata": {},
   "source": [
    "## Explore the data"
   ]
  },
  {
   "cell_type": "code",
   "execution_count": null,
   "metadata": {},
   "outputs": [],
   "source": []
  },
  {
   "cell_type": "markdown",
   "metadata": {
    "colab_type": "text",
    "id": "9OjS51JQS7iS"
   },
   "source": [
    "## Building a Small Convnet from Scratch to Get to 72% Accuracy\n",
    "\n",
    "The images that will go into our convnet are 1024x1024 color images (in the next section on Data Preprocessing, we'll add handling to resize all the images to 299x299 before feeding them into the neural network).\n",
    "\n",
    "Let's code up the architecture. We will stack 3 {convolution + relu + maxpooling} modules. Our convolutions operate on 3x3 windows and our maxpooling layers operate on 2x2 windows. Our first convolution extracts 16 filters, the following one extracts 32 filters, and the last one extracts 64 filters.\n",
    "\n",
    "**NOTE**: This is a configuration that is widely used and known to work well for image classification. Also, since we have relatively few training examples (1,000), using just three convolutional modules keeps the model small, which lowers the risk of overfitting (which we'll explore in more depth in Exercise 2.)"
   ]
  },
  {
   "cell_type": "code",
   "execution_count": 2,
   "metadata": {
    "colab": {},
    "colab_type": "code",
    "id": "LjoxR_FVS7iQ"
   },
   "outputs": [
    {
     "name": "stderr",
     "output_type": "stream",
     "text": [
      "/data/miniconda3/lib/python3.6/site-packages/h5py/__init__.py:34: FutureWarning: Conversion of the second argument of issubdtype from `float` to `np.floating` is deprecated. In future, it will be treated as `np.float64 == np.dtype(float).type`.\n",
      "  from ._conv import register_converters as _register_converters\n"
     ]
    }
   ],
   "source": [
    "from tensorflow.keras import layers\n",
    "from tensorflow.keras import Model"
   ]
  },
  {
   "cell_type": "code",
   "execution_count": 17,
   "metadata": {
    "colab": {},
    "colab_type": "code",
    "id": "WAsZ2OlJS7iN"
   },
   "outputs": [],
   "source": [
    "# Our input feature map is 150x150x3: 150x150 for the image pixels, and 3 for the three color channels: R, G, and B\n",
    "#img_input = layers.Input(shape=(img_width, img_height, color_channels))\n",
    "img_input1 = layers.Input(shape=target_size + (1,))\n",
    "img_input2 = layers.Input(shape=target_size + (1,))\n",
    "img_input = layers.Subtract()([img_input2, img_input1])\n",
    "#img_input = layers.concatenate([img_input1, img_input2])\n",
    "#x = layers.concatenate([img_input, img_input1])\n",
    "#x = layers.concatenate([x, img_input2])\n",
    "# First convolution extracts 16 filters that are 3x3\n",
    "# Convolution is followed by max-pooling layer with a 2x2 window\n",
    "net = layers.Conv3D(kernel_size, conv_window, activation=activation, padding='valid', strides=4)(img_input)\n",
    "#x = layers.BatchNormalization()(x)\n",
    "x = layers.MaxPooling3D(pooling_window)(net)\n",
    "#x = layers.BatchNormalization()(x)\n",
    "\n",
    "#x = layers.Conv3D(kernel_size, conv_window, activation=activation, padding='valid')(x)\n",
    "#branch_1 = x\n",
    "\n",
    "# Second convolution extracts 32 filters that are 3x3\n",
    "# Convolution is followed by max-pooling layer with a 2x2 window\n",
    "x = layers.Conv3D(2*kernel_size, conv_window, activation=activation, padding='same', strides=1)(x)\n",
    "#x = layers.BatchNormalization()(x)\n",
    "x = layers.MaxPooling3D(pooling_window)(x)\n",
    "#x = layers.BatchNormalization()(x)\n",
    "#x = layers.Conv3D(2*kernel_size, conv_window, activation=activation, padding='same')(x)\n",
    "\n",
    "# Third convolution extracts 64 filters that are 3x3\n",
    "# Convolution is followed by max-pooling layer with a 2x2 window\n",
    "#x = layers.Conv3D(4*kernel_size, conv_window, activation=activation, padding='same')(x)\n",
    "#x = layers.Conv3D(4*kernel_size, conv_window, activation=activation, padding='valid', strides=2)(x)\n",
    "#x = layers.Conv3D(4*kernel_size, conv_window, activation=activation)(x)\n",
    "#x = layers.MaxPooling3D(pooling_window)(x)\n",
    "x = layers.Conv3D(6*kernel_size, conv_window, activation=activation, padding='same', strides=1)(x)\n",
    "#branch_2 = x\n",
    "#x = layers.MaxPooling3D(pooling_window)(x)\n",
    "x = layers.Conv3D(6*kernel_size, conv_window, activation=activation, padding='same')(x)\n",
    "x = layers.Conv3D(6*kernel_size, conv_window, activation=activation, padding='same', name='conv_3d')(x)\n",
    "#x = layers.BatchNormalization()(x)"
   ]
  },
  {
   "cell_type": "markdown",
   "metadata": {
    "colab_type": "text",
    "id": "r5sKKe30S7iM"
   },
   "source": [
    "On top of it we stick two fully-connected layers."
   ]
  },
  {
   "cell_type": "code",
   "execution_count": 18,
   "metadata": {
    "colab": {},
    "colab_type": "code",
    "id": "L9_OMfd_S7iJ"
   },
   "outputs": [],
   "source": [
    "# Flatten feature map to a 1-dim tensor so we can add fully connected layers\n",
    "x = layers.Flatten(name='Flatten')(x)\n",
    "\n",
    "# Create a fully connected layer with ReLU activation and 512 hidden units\n",
    "x = layers.Dense(128, activation=activation, name='Dense_512')(x)\n",
    "\n",
    "# Add Droptout Regularization\n",
    "#x = layers.Dropout(dropout)(x)\n",
    "\n",
    "# Create output layer with a single node and sigmoid activation\n",
    "#output = layers.Dense(1, activation='sigmoid')(x)\n",
    "output = layers.Dense(len(class_names), activation = 'softmax', name='Dense_2') (x)\n",
    "\n",
    "\n",
    "# Create model: input = input feature map\n",
    "# output = input feature map + stacked convolution/maxpooling layers + fully connected layer + sigmoid output layer\n",
    "model = Model(inputs=[img_input1,img_input2], outputs=output)"
   ]
  },
  {
   "cell_type": "markdown",
   "metadata": {
    "colab_type": "text",
    "id": "MflIuPWOS7iI"
   },
   "source": [
    "Let's summarize the model architecture:"
   ]
  },
  {
   "cell_type": "code",
   "execution_count": 19,
   "metadata": {
    "colab": {
     "base_uri": "https://localhost:8080/",
     "height": 485
    },
    "colab_type": "code",
    "id": "LTIhsIGgS7iD",
    "outputId": "4355d4b5-e18c-41d5-b0d9-0b1492ec8258"
   },
   "outputs": [
    {
     "name": "stdout",
     "output_type": "stream",
     "text": [
      "__________________________________________________________________________________________________\n",
      "Layer (type)                    Output Shape         Param #     Connected to                     \n",
      "==================================================================================================\n",
      "input_8 (InputLayer)            (None, 128, 128, 128 0                                            \n",
      "__________________________________________________________________________________________________\n",
      "input_7 (InputLayer)            (None, 128, 128, 128 0                                            \n",
      "__________________________________________________________________________________________________\n",
      "subtract_3 (Subtract)           (None, 128, 128, 128 0           input_8[0][0]                    \n",
      "                                                                 input_7[0][0]                    \n",
      "__________________________________________________________________________________________________\n",
      "conv3d_9 (Conv3D)               (None, 32, 32, 32, 4 112         subtract_3[0][0]                 \n",
      "__________________________________________________________________________________________________\n",
      "max_pooling3d_4 (MaxPooling3D)  (None, 16, 16, 16, 4 0           conv3d_9[0][0]                   \n",
      "__________________________________________________________________________________________________\n",
      "conv3d_10 (Conv3D)              (None, 16, 16, 16, 8 872         max_pooling3d_4[0][0]            \n",
      "__________________________________________________________________________________________________\n",
      "max_pooling3d_5 (MaxPooling3D)  (None, 8, 8, 8, 8)   0           conv3d_10[0][0]                  \n",
      "__________________________________________________________________________________________________\n",
      "conv3d_11 (Conv3D)              (None, 8, 8, 8, 24)  5208        max_pooling3d_5[0][0]            \n",
      "__________________________________________________________________________________________________\n",
      "conv3d_12 (Conv3D)              (None, 8, 8, 8, 24)  15576       conv3d_11[0][0]                  \n",
      "__________________________________________________________________________________________________\n",
      "conv_3d (Conv3D)                (None, 8, 8, 8, 24)  15576       conv3d_12[0][0]                  \n",
      "__________________________________________________________________________________________________\n",
      "Flatten (Flatten)               (None, 12288)        0           conv_3d[0][0]                    \n",
      "__________________________________________________________________________________________________\n",
      "Dense_512 (Dense)               (None, 128)          1572992     Flatten[0][0]                    \n",
      "__________________________________________________________________________________________________\n",
      "Dense_2 (Dense)                 (None, 2)            258         Dense_512[0][0]                  \n",
      "==================================================================================================\n",
      "Total params: 1,610,594\n",
      "Trainable params: 1,610,594\n",
      "Non-trainable params: 0\n",
      "__________________________________________________________________________________________________\n"
     ]
    }
   ],
   "source": [
    "model.summary()"
   ]
  },
  {
   "cell_type": "markdown",
   "metadata": {
    "colab_type": "text",
    "id": "Bu1kDL-9S7iC"
   },
   "source": [
    "The \"output shape\" column shows how the size of your feature map evolves in each successive layer. The convolution layers reduce the size of the feature maps by a bit due to padding, and each pooling layer halves the feature map."
   ]
  },
  {
   "cell_type": "markdown",
   "metadata": {
    "colab_type": "text",
    "id": "2OOs61ZrS7iB"
   },
   "source": [
    "Next, we'll configure the specifications for model training. We will train our model with the `categircal_crossentropy` loss, because it's a multi-class classification problem and our final activation is a softmax. (For a refresher on loss metrics, see the [Machine Learning Crash Course](https://developers.google.com/machine-learning/crash-course/descending-into-ml/video-lecture).) We will use the `Adam` optimizer with a learning rate of `0.001`. During training, we will want to monitor classification accuracy.\n",
    "\n",
    "**NOTE**: In this case, using the [Adam](https://wikipedia.org/wiki/Stochastic_gradient_descent#Adam) is preferable to [stochastic gradient descent](https://developers.google.com/machine-learning/glossary/#SGD) (SGD), because Adam automates learning-rate tuning for us. (Other optimizers,such as RMSprop [RMSprop optimization algorithm](https://wikipedia.org/wiki/Stochastic_gradient_descent#RMSProp) and [Adagrad](https://developers.google.com/machine-learning/glossary/#AdaGrad), also automatically adapt the learning rate during training, and would work equally well here.)"
   ]
  },
  {
   "cell_type": "code",
   "execution_count": 20,
   "metadata": {
    "colab": {},
    "colab_type": "code",
    "id": "akzlNJyMS7h_"
   },
   "outputs": [],
   "source": [
    "from tensorflow.keras.optimizers import Adam\n",
    "\n",
    "model.compile(loss=loss,\n",
    "              optimizer=optimizer,\n",
    "              metrics=metrics)"
   ]
  },
  {
   "cell_type": "markdown",
   "metadata": {
    "colab_type": "text",
    "id": "o9FcBXUZS7h-"
   },
   "source": [
    "### Data Preprocessing\n",
    "\n",
    "Let's set up data generators that will read pictures in our source folders, convert them to `float32` tensors, and feed them (with their labels) to our network. We'll have one generator for the training images and one for the validation images. Our generators will yield batches of 20 images of size 150x150 and their labels (binary).\n",
    "\n",
    "As you may already know, data that goes into neural networks should usually be normalized in some way to make it more amenable to processing by the network. (It is uncommon to feed raw pixels into a convnet.) In our case, we will preprocess our images by normalizing the pixel values to be in the `[0, 1]` range (originally all values are in the `[0, 255]` range).\n",
    "\n",
    "In Keras this can be done via the `keras.preprocessing.image.ImageDataGenerator` class using the `rescale` parameter. This `ImageDataGenerator` class allows you to instantiate generators of augmented image batches (and their labels) via `.flow(data, labels)` or `.flow_from_directory(directory)`. These generators can then be used with the Keras model methods that accept data generators as inputs: `fit_generator`, `evaluate_generator`, and `predict_generator`."
   ]
  },
  {
   "cell_type": "code",
   "execution_count": 21,
   "metadata": {
    "colab": {
     "base_uri": "https://localhost:8080/",
     "height": 486
    },
    "colab_type": "code",
    "id": "Db8prNwPS7h8",
    "outputId": "4896dc38-baae-4765-ee8b-868edb0db08c"
   },
   "outputs": [],
   "source": [
    "from tensorflow.keras.preprocessing.image import ImageDataGenerator\n",
    "\n",
    "\n",
    "def threscut(subject_data, threshold_min=0, threshold_max=1700):# 1000,2000\n",
    "    subject_data[subject_data > threshold_max] = threshold_max\n",
    "    subject_data[subject_data < threshold_min] = threshold_min\n",
    "\n",
    "    return subject_data\n",
    "\n",
    "\n",
    "def normalize_3D(img_3D, nor_min=0, nor_max=1700):\n",
    "    \"\"\" The shape of img_3D should be (depth, width, height)\"\"\"\n",
    "    data_3D = img_3D - nor_min\n",
    "    data_3D = data_3D / np.float32(nor_max-nor_min)\n",
    "    #data_3D = img_3D - img_3D.min()\n",
    "    #data_3D = data_3D / np.float32(img_3D.max())\n",
    "    return np.asarray(data_3D, np.float32)\n",
    "\n",
    "def hist_of_3d_array(array_3d):\n",
    "    array_1d = np.reshape(array_3d, [np.size(array_3d)])\n",
    "    num_bins=10\n",
    "    hist = plt.hist(array_1d, num_bins, facecolor='blue', alpha=0.5)\n",
    "    return(hist)\n",
    "\n",
    "def data_augumentation_flip(array_3d):\n",
    "    flip_index = np.random.randint(0,3)\n",
    "    if flip_index == 0:\n",
    "        array_3d = array_3d[::-1,:,:]\n",
    "    if flip_index == 1:\n",
    "        array_3d = array_3d[:,::-1,:]\n",
    "    if flip_index == 2:\n",
    "        array_3d = array_3d[:,:,::-1]\n",
    "    return array_3d\n",
    "\n",
    "def data_augumentation_noise(img_3d):\n",
    "    # Create a list of intensity modifying filters, which we apply to the given images\n",
    "    filter_list = []\n",
    "    \n",
    "    # Smoothing filters\n",
    "    \n",
    "    filter_list.append(sitk.SmoothingRecursiveGaussianImageFilter())\n",
    "    filter_list[-1].SetSigma(2.0)\n",
    "    \n",
    "    filter_list.append(sitk.DiscreteGaussianImageFilter())\n",
    "    filter_list[-1].SetVariance(4.0)\n",
    "    \n",
    "    filter_list.append(sitk.BilateralImageFilter())\n",
    "    filter_list[-1].SetDomainSigma(4.0)\n",
    "    filter_list[-1].SetRangeSigma(8.0)\n",
    "    \n",
    "    filter_list.append(sitk.MedianImageFilter())\n",
    "    filter_list[-1].SetRadius(8)\n",
    "    \n",
    "    # Noise filters using default settings\n",
    "    \n",
    "    # Filter control via SetMean, SetStandardDeviation.\n",
    "    filter_list.append(sitk.AdditiveGaussianNoiseImageFilter())\n",
    "    filter_list[-1].SetMean(0.2)\n",
    "    filter_list[-1].SetStandardDeviation(0.7)\n",
    "\n",
    "    # Filter control via SetProbability\n",
    "    filter_list.append(sitk.SaltAndPepperNoiseImageFilter())\n",
    "    \n",
    "    # Filter control via SetScale\n",
    "    filter_list.append(sitk.ShotNoiseImageFilter())\n",
    "    \n",
    "    # Filter control via SetStandardDeviation\n",
    "    filter_list.append(sitk.SpeckleNoiseImageFilter())\n",
    "\n",
    "    filter_list.append(sitk.AdaptiveHistogramEqualizationImageFilter())\n",
    "    filter_list[-1].SetAlpha(1.0)\n",
    "    filter_list[-1].SetBeta(0.0)\n",
    "\n",
    "    filter_list.append(sitk.AdaptiveHistogramEqualizationImageFilter())\n",
    "    filter_list[-1].SetAlpha(0.0)\n",
    "    filter_list[-1].SetBeta(1.0)\n",
    "    \n",
    "    aug_image_lists = [] # Used only for display purposes in this notebook.\n",
    "    f = filter_list[4]\n",
    "    aug_image = f.Execute(img_3d)\n",
    "    return aug_image\n",
    "\n",
    "def dilation(img_3d):\n",
    "    d = sitk.GrayscaleDilateImageFilter()\n",
    "    for i in range(8):\n",
    "        img_3d = d.Execute(img_3d)\n",
    "    return img_3d\n",
    "\n",
    "def pre_process(img_3d):\n",
    "    img_data = sitk.GetArrayFromImage(img_3d)\n",
    "    img_data = threscut(img_data)\n",
    "    img_data = normalize_3D(img_data)\n",
    "    img = sitk.GetImageFromArray(img_data)\n",
    "    img = dilation(img)\n",
    "    return img\n",
    "\n",
    "def generate_single_batch_train_data(data_path, batch_size):\n",
    "    while 1:\n",
    "        #img_data_batch = np.zeros([30,512,512,batch_size])\n",
    "        #label_batch = np.zeros([1,2,batch_size])\n",
    "        #for i in os.listdir(data_path):\n",
    "        for j in range(batch_size):\n",
    "            img_data_sum = np.zeros([1,256,128,128,1])\n",
    "            size = int(img_data_sum.shape[1]/2)\n",
    "            #label_sum = np.zeros([1,2])\n",
    "            class_ind = np.random.randint(0,2)\n",
    "                        \n",
    "            #if class_ind == 0:\n",
    "            data_path_1 = data_path + '/CT_full_size'\n",
    "            i = np.random.randint(len(os.listdir(data_path_1)))\n",
    "            \n",
    "            img = sitk.ReadImage(os.path.join(data_path_1, sorted(os.listdir(data_path_1))[i]))\n",
    "            img = pre_process(img)\n",
    "            img_data = sitk.GetArrayFromImage(img)\n",
    "            img_data = np.expand_dims(img_data, axis=0)\n",
    "            img_data = np.expand_dims(img_data, axis=4)\n",
    "                \n",
    "            img_data_sum[0,:size,:,:,:] = img_data\n",
    "            #label = np.expand_dims(label, axis=0)\n",
    "            \n",
    "                \n",
    "            #else:\n",
    "            data_path_1 = data_path + '/Probe_full_size'\n",
    "            \n",
    "\n",
    "            img = sitk.ReadImage(os.path.join(data_path_1, sorted(os.listdir(data_path_1))[i]))\n",
    "            img = pre_process(img)\n",
    "            img_data = sitk.GetArrayFromImage(img)\n",
    "            img_data = np.expand_dims(img_data, axis=0)\n",
    "            img_data = np.expand_dims(img_data, axis=4)\n",
    "            img_data_sum[0,size:2*size,:,:,:] = img_data\n",
    "            if class_ind ==0:\n",
    "                label = np.array([1,0])\n",
    "            if class_ind == 1:\n",
    "                label = np.array([0,1])\n",
    "            label = np.expand_dims(label, axis=0)\n",
    "            \n",
    "            if class_ind == 0:\n",
    "                yield [img_data_sum[:,:size,:,:,:], img_data_sum[:,size:2*size,:,:,:]], label\n",
    "            else:\n",
    "                yield [img_data_sum[:,size:2*size,:,:,:], img_data_sum[:,:size,:,:,:]], label\n",
    "                \n",
    "def generate_single_batch_validation_data(data_path):\n",
    "    while 1:\n",
    "        for j in range(batch_size):\n",
    "            img_data_sum = np.zeros([1,256,128,128,1])\n",
    "            size = int(img_data_sum.shape[1]/2)\n",
    "            #label_sum = np.zeros([1,2])\n",
    "            class_ind = np.random.randint(0,2)\n",
    "                        \n",
    "            #if class_ind == 0:\n",
    "            data_path_1 = data_path + '/CT_full_size'\n",
    "            i = np.random.randint(len(os.listdir(data_path_1)))\n",
    "            \n",
    "            img = sitk.ReadImage(os.path.join(data_path_1, sorted(os.listdir(data_path_1))[i]))\n",
    "            img = pre_process(img)\n",
    "            img_data = sitk.GetArrayFromImage(img)\n",
    "            img_data = np.expand_dims(img_data, axis=0)\n",
    "            img_data = np.expand_dims(img_data, axis=4)\n",
    "                \n",
    "            img_data_sum[0,:size,:,:,:] = img_data\n",
    "            #label = np.expand_dims(label, axis=0)\n",
    "            \n",
    "                \n",
    "            #else:\n",
    "            data_path_1 = data_path + '/Probe_full_size'\n",
    "            \n",
    "\n",
    "            img = sitk.ReadImage(os.path.join(data_path_1, sorted(os.listdir(data_path_1))[i]))\n",
    "            img = pre_process(img)\n",
    "            img_data = sitk.GetArrayFromImage(img)\n",
    "            img_data = np.expand_dims(img_data, axis=0)\n",
    "            img_data = np.expand_dims(img_data, axis=4)\n",
    "            img_data_sum[0,size:2*size,:,:,:] = img_data\n",
    "            if class_ind ==0:\n",
    "                label = np.array([1,0])\n",
    "            if class_ind == 1:\n",
    "                label = np.array([0,1])\n",
    "            label = np.expand_dims(label, axis=0)\n",
    "            \n",
    "            if class_ind == 0:\n",
    "                yield [img_data_sum[:,:size,:,:,:], img_data_sum[:,size:2*size,:,:,:]], label\n",
    "            else:\n",
    "                yield [img_data_sum[:,size:2*size,:,:,:], img_data_sum[:,:size,:,:,:]], label\n",
    "        \n",
    "train_generator = generate_single_batch_train_data(base_dir+'/training', batch_size)\n",
    "validation_generator = generate_single_batch_validation_data(base_dir + '/validation')"
   ]
  },
  {
   "cell_type": "markdown",
   "metadata": {
    "colab_type": "text",
    "id": "pIAIUXXYS7h7"
   },
   "source": [
    "## Training\n",
    "Let's train on all 42.862 images available, for 15 epochs, and validate on all validation images . (This will take a couple of hours to run.)"
   ]
  },
  {
   "cell_type": "code",
   "execution_count": null,
   "metadata": {
    "colab": {
     "base_uri": "https://localhost:8080/",
     "height": 247
    },
    "colab_type": "code",
    "id": "ryQKw8mCS7h4",
    "outputId": "406698d6-5b20-44c5-8834-0a2520310fc8",
    "scrolled": false
   },
   "outputs": [
    {
     "name": "stdout",
     "output_type": "stream",
     "text": [
      "Epoch 1/100\n",
      "200/200 [==============================] - 126s 628ms/step - loss: 0.2137 - categorical_accuracy: 0.9350 - val_loss: 10.7107 - val_categorical_accuracy: 0.0000e+00\n",
      "Epoch 2/100\n",
      "199/200 [============================>.] - ETA: 0s - loss: 5.6166e-04 - categorical_accuracy: 1.0000\n",
      "Epoch 00002: saving model to ./models/weights-improvement-02-12.04.h5\n",
      "200/200 [==============================] - 122s 610ms/step - loss: 5.5885e-04 - categorical_accuracy: 1.0000 - val_loss: 12.0426 - val_categorical_accuracy: 0.0000e+00\n",
      "Epoch 3/100\n",
      "200/200 [==============================] - 118s 588ms/step - loss: 1.1298e-04 - categorical_accuracy: 1.0000 - val_loss: 16.1181 - val_categorical_accuracy: 0.0000e+00\n",
      "Epoch 4/100\n",
      "199/200 [============================>.] - ETA: 0s - loss: 4.7173e-05 - categorical_accuracy: 1.0000\n",
      "Epoch 00004: saving model to ./models/weights-improvement-04-12.80.h5\n",
      "200/200 [==============================] - 116s 579ms/step - loss: 4.7327e-05 - categorical_accuracy: 1.0000 - val_loss: 12.8015 - val_categorical_accuracy: 0.0000e+00\n",
      "Epoch 5/100\n",
      "200/200 [==============================] - 130s 650ms/step - loss: 2.7853e-05 - categorical_accuracy: 1.0000 - val_loss: 9.9384 - val_categorical_accuracy: 0.0000e+00\n",
      "Epoch 6/100\n",
      "199/200 [============================>.] - ETA: 0s - loss: 2.1605e-05 - categorical_accuracy: 1.0000\n",
      "Epoch 00006: saving model to ./models/weights-improvement-06-13.24.h5\n",
      "200/200 [==============================] - 127s 635ms/step - loss: 2.1497e-05 - categorical_accuracy: 1.0000 - val_loss: 13.2398 - val_categorical_accuracy: 0.0000e+00\n",
      "Epoch 7/100\n",
      "200/200 [==============================] - 127s 637ms/step - loss: 1.3622e-05 - categorical_accuracy: 1.0000 - val_loss: 10.6979 - val_categorical_accuracy: 0.0000e+00\n",
      "Epoch 8/100\n",
      "199/200 [============================>.] - ETA: 0s - loss: 1.0499e-05 - categorical_accuracy: 1.0000\n",
      "Epoch 00008: saving model to ./models/weights-improvement-08-13.56.h5\n",
      "200/200 [==============================] - 133s 666ms/step - loss: 1.0447e-05 - categorical_accuracy: 1.0000 - val_loss: 13.5589 - val_categorical_accuracy: 0.0000e+00\n",
      "Epoch 9/100\n",
      "200/200 [==============================] - 125s 625ms/step - loss: 8.2610e-06 - categorical_accuracy: 1.0000 - val_loss: 13.6985 - val_categorical_accuracy: 0.0000e+00\n",
      "Epoch 10/100\n",
      "199/200 [============================>.] - ETA: 0s - loss: 5.8542e-06 - categorical_accuracy: 1.0000\n",
      "Epoch 00010: saving model to ./models/weights-improvement-10-13.81.h5\n",
      "200/200 [==============================] - 134s 670ms/step - loss: 5.8255e-06 - categorical_accuracy: 1.0000 - val_loss: 13.8144 - val_categorical_accuracy: 0.0000e+00\n",
      "Epoch 11/100\n",
      "200/200 [==============================] - 130s 648ms/step - loss: 4.6668e-06 - categorical_accuracy: 1.0000 - val_loss: 16.1181 - val_categorical_accuracy: 0.0000e+00\n",
      "Epoch 12/100\n",
      "199/200 [============================>.] - ETA: 0s - loss: 3.8267e-06 - categorical_accuracy: 1.0000\n",
      "Epoch 00012: saving model to ./models/weights-improvement-12-16.12.h5\n",
      "200/200 [==============================] - 125s 623ms/step - loss: 3.8082e-06 - categorical_accuracy: 1.0000 - val_loss: 16.1181 - val_categorical_accuracy: 0.0000e+00\n",
      "Epoch 13/100\n",
      "200/200 [==============================] - 115s 575ms/step - loss: 2.7514e-06 - categorical_accuracy: 1.0000 - val_loss: 14.1045 - val_categorical_accuracy: 0.0000e+00\n",
      "Epoch 14/100\n",
      "199/200 [============================>.] - ETA: 0s - loss: 2.6094e-06 - categorical_accuracy: 1.0000\n",
      "Epoch 00014: saving model to ./models/weights-improvement-14-16.12.h5\n",
      "200/200 [==============================] - 116s 578ms/step - loss: 2.6208e-06 - categorical_accuracy: 1.0000 - val_loss: 16.1181 - val_categorical_accuracy: 0.0000e+00\n",
      "Epoch 15/100\n",
      "200/200 [==============================] - 117s 584ms/step - loss: 2.3717e-06 - categorical_accuracy: 1.0000 - val_loss: 14.2833 - val_categorical_accuracy: 0.0000e+00\n",
      "Epoch 16/100\n",
      "199/200 [============================>.] - ETA: 0s - loss: 2.1326e-06 - categorical_accuracy: 1.0000\n",
      "Epoch 00016: saving model to ./models/weights-improvement-16-12.63.h5\n",
      "200/200 [==============================] - 135s 677ms/step - loss: 2.1386e-06 - categorical_accuracy: 1.0000 - val_loss: 12.6345 - val_categorical_accuracy: 0.0000e+00\n",
      "Epoch 17/100\n",
      "200/200 [==============================] - 128s 638ms/step - loss: 1.5605e-06 - categorical_accuracy: 1.0000 - val_loss: 12.7864 - val_categorical_accuracy: 0.0000e+00\n",
      "Epoch 18/100\n",
      "199/200 [============================>.] - ETA: 0s - loss: 1.3514e-06 - categorical_accuracy: 1.0000\n",
      "Epoch 00018: saving model to ./models/weights-improvement-18-16.12.h5\n",
      "200/200 [==============================] - 124s 622ms/step - loss: 1.3569e-06 - categorical_accuracy: 1.0000 - val_loss: 16.1181 - val_categorical_accuracy: 0.0000e+00\n",
      "Epoch 19/100\n",
      "200/200 [==============================] - 128s 638ms/step - loss: 1.3033e-06 - categorical_accuracy: 1.0000 - val_loss: 13.0969 - val_categorical_accuracy: 0.0000e+00\n",
      "Epoch 20/100\n",
      "199/200 [============================>.] - ETA: 0s - loss: 9.6955e-07 - categorical_accuracy: 1.0000\n",
      "Epoch 00020: saving model to ./models/weights-improvement-20-14.67.h5\n",
      "200/200 [==============================] - 128s 639ms/step - loss: 9.6530e-07 - categorical_accuracy: 1.0000 - val_loss: 14.6736 - val_categorical_accuracy: 0.0000e+00\n",
      "Epoch 21/100\n",
      "200/200 [==============================] - 128s 641ms/step - loss: 9.3818e-07 - categorical_accuracy: 1.0000 - val_loss: 13.3728 - val_categorical_accuracy: 0.0000e+00\n",
      "Epoch 22/100\n",
      "199/200 [============================>.] - ETA: 0s - loss: 7.5270e-07 - categorical_accuracy: 1.0000\n",
      "Epoch 00022: saving model to ./models/weights-improvement-22-14.81.h5\n",
      "200/200 [==============================] - 128s 640ms/step - loss: 7.4953e-07 - categorical_accuracy: 1.0000 - val_loss: 14.8099 - val_categorical_accuracy: 0.0000e+00\n",
      "Epoch 23/100\n",
      "200/200 [==============================] - 129s 644ms/step - loss: 7.1108e-07 - categorical_accuracy: 1.0000 - val_loss: 14.8771 - val_categorical_accuracy: 0.0000e+00\n",
      "Epoch 24/100\n",
      "199/200 [============================>.] - ETA: 0s - loss: 6.7362e-07 - categorical_accuracy: 1.0000\n",
      "Epoch 00024: saving model to ./models/weights-improvement-24-14.95.h5\n",
      "200/200 [==============================] - 129s 647ms/step - loss: 6.7085e-07 - categorical_accuracy: 1.0000 - val_loss: 14.9491 - val_categorical_accuracy: 0.0000e+00\n",
      "Epoch 25/100\n",
      "200/200 [==============================] - 126s 630ms/step - loss: 5.9634e-07 - categorical_accuracy: 1.0000 - val_loss: 13.9213 - val_categorical_accuracy: 0.0000e+00\n",
      "Epoch 26/100\n",
      "199/200 [============================>.] - ETA: 0s - loss: 4.6516e-07 - categorical_accuracy: 1.0000\n",
      "Epoch 00026: saving model to ./models/weights-improvement-26-15.08.h5\n",
      "200/200 [==============================] - 122s 608ms/step - loss: 4.6343e-07 - categorical_accuracy: 1.0000 - val_loss: 15.0799 - val_categorical_accuracy: 0.0000e+00\n",
      "Epoch 27/100\n",
      "200/200 [==============================] - 114s 568ms/step - loss: 4.3988e-07 - categorical_accuracy: 1.0000 - val_loss: 15.1432 - val_categorical_accuracy: 0.0000e+00\n",
      "Epoch 28/100\n",
      "199/200 [============================>.] - ETA: 0s - loss: 4.2831e-07 - categorical_accuracy: 1.0000\n",
      "Epoch 00028: saving model to ./models/weights-improvement-28-15.21.h5\n",
      "200/200 [==============================] - 114s 571ms/step - loss: 4.2677e-07 - categorical_accuracy: 1.0000 - val_loss: 15.2129 - val_categorical_accuracy: 0.0000e+00\n",
      "Epoch 29/100\n",
      "200/200 [==============================] - 114s 569ms/step - loss: 3.6508e-07 - categorical_accuracy: 1.0000 - val_loss: 15.2748 - val_categorical_accuracy: 0.0000e+00\n",
      "Epoch 30/100\n",
      "199/200 [============================>.] - ETA: 0s - loss: 3.1150e-07 - categorical_accuracy: 1.0000\n",
      "Epoch 00030: saving model to ./models/weights-improvement-30-16.12.h5\n",
      "200/200 [==============================] - 129s 646ms/step - loss: 3.1233e-07 - categorical_accuracy: 1.0000 - val_loss: 16.1181 - val_categorical_accuracy: 0.0000e+00\n",
      "Epoch 31/100\n",
      "200/200 [==============================] - 114s 568ms/step - loss: 2.9504e-07 - categorical_accuracy: 1.0000 - val_loss: 14.6762 - val_categorical_accuracy: 0.0000e+00\n",
      "Epoch 32/100\n"
     ]
    },
    {
     "name": "stdout",
     "output_type": "stream",
     "text": [
      "199/200 [============================>.] - ETA: 0s - loss: 2.5489e-07 - categorical_accuracy: 1.0000\n",
      "Epoch 00032: saving model to ./models/weights-improvement-32-14.80.h5\n",
      "200/200 [==============================] - 124s 622ms/step - loss: 2.5421e-07 - categorical_accuracy: 1.0000 - val_loss: 14.7973 - val_categorical_accuracy: 0.0000e+00\n",
      "Epoch 33/100\n",
      "200/200 [==============================] - 127s 634ms/step - loss: 2.3246e-07 - categorical_accuracy: 1.0000 - val_loss: 15.5139 - val_categorical_accuracy: 0.0000e+00\n",
      "Epoch 34/100\n",
      "199/200 [============================>.] - ETA: 0s - loss: 2.1416e-07 - categorical_accuracy: 1.0000\n",
      "Epoch 00034: saving model to ./models/weights-improvement-34-15.01.h5\n",
      "200/200 [==============================] - 128s 638ms/step - loss: 2.1458e-07 - categorical_accuracy: 1.0000 - val_loss: 15.0107 - val_categorical_accuracy: 0.0000e+00\n",
      "Epoch 35/100\n",
      "200/200 [==============================] - 127s 633ms/step - loss: 1.8656e-07 - categorical_accuracy: 1.0000 - val_loss: 15.6206 - val_categorical_accuracy: 0.0000e+00\n",
      "Epoch 36/100\n",
      "199/200 [============================>.] - ETA: 0s - loss: 1.7612e-07 - categorical_accuracy: 1.0000\n",
      "Epoch 00036: saving model to ./models/weights-improvement-36-16.12.h5\n",
      "200/200 [==============================] - 128s 642ms/step - loss: 1.7643e-07 - categorical_accuracy: 1.0000 - val_loss: 16.1181 - val_categorical_accuracy: 0.0000e+00\n",
      "Epoch 37/100\n",
      "200/200 [==============================] - 127s 633ms/step - loss: 1.8299e-07 - categorical_accuracy: 1.0000 - val_loss: 15.7374 - val_categorical_accuracy: 0.0000e+00\n",
      "Epoch 38/100\n",
      "199/200 [============================>.] - ETA: 0s - loss: 1.6564e-07 - categorical_accuracy: 1.0000\n",
      "Epoch 00038: saving model to ./models/weights-improvement-38-15.80.h5\n",
      "200/200 [==============================] - 128s 639ms/step - loss: 1.6570e-07 - categorical_accuracy: 1.0000 - val_loss: 15.7960 - val_categorical_accuracy: 0.0000e+00\n",
      "Epoch 39/100\n",
      "200/200 [==============================] - 128s 640ms/step - loss: 1.4365e-07 - categorical_accuracy: 1.0000 - val_loss: 15.8530 - val_categorical_accuracy: 0.0000e+00\n",
      "Epoch 40/100\n",
      "199/200 [============================>.] - ETA: 0s - loss: 1.1951e-07 - categorical_accuracy: 1.0000\n",
      "Epoch 00040: saving model to ./models/weights-improvement-40-15.91.h5\n",
      "200/200 [==============================] - 133s 667ms/step - loss: 1.1951e-07 - categorical_accuracy: 1.0000 - val_loss: 15.9069 - val_categorical_accuracy: 0.0000e+00\n",
      "Epoch 41/100\n",
      "158/200 [======================>.......] - ETA: 26s - loss: 1.1921e-07 - categorical_accuracy: 1.0000"
     ]
    }
   ],
   "source": [
    "from tensorflow.keras.callbacks import ModelCheckpoint\n",
    "filepath=\"./models/weights-improvement-{epoch:02d}-{val_loss:.2f}.h5\"\n",
    "checkpoint = ModelCheckpoint(filepath, monitor='val_loss', verbose=1, save_best_only=False, mode='max', period=2)\n",
    "callbacks_list = [checkpoint]\n",
    "#model.load_weights('./models/work_model.h5')\n",
    "history = model.fit_generator(\n",
    "    train_generator,\n",
    "    steps_per_epoch = batch_size,\n",
    "    validation_data = validation_generator, \n",
    "    validation_steps =2,\n",
    "    callbacks=callbacks_list,\n",
    "    epochs = epochs)"
   ]
  },
  {
   "cell_type": "markdown",
   "metadata": {
    "colab_type": "text",
    "id": "QD3QSFHBS7h3"
   },
   "source": [
    "### Visualizing Intermediate Representations\n",
    "\n",
    "To get a feel for what kind of features our convnet has learned, one fun thing to do is to visualize how an input gets transformed as it goes through the convnet.\n",
    "\n",
    "Let's pick a random cat or dog image from the training set, and then generate a figure where each row is the output of a layer, and each image in the row is a specific filter in that output feature map. Rerun this cell to generate intermediate representations for a variety of training images."
   ]
  },
  {
   "cell_type": "code",
   "execution_count": 37,
   "metadata": {
    "colab": {},
    "colab_type": "code",
    "id": "Tmdo7TzrS7h0"
   },
   "outputs": [
    {
     "ename": "NameError",
     "evalue": "name 'train_ate_fnames' is not defined",
     "output_type": "error",
     "traceback": [
      "\u001b[0;31m---------------------------------------------------------------------------\u001b[0m",
      "\u001b[0;31mNameError\u001b[0m                                 Traceback (most recent call last)",
      "\u001b[0;32m<ipython-input-37-a52f233d5b89>\u001b[0m in \u001b[0;36m<module>\u001b[0;34m\u001b[0m\n\u001b[1;32m     10\u001b[0m \u001b[0;34m\u001b[0m\u001b[0m\n\u001b[1;32m     11\u001b[0m \u001b[0;31m# Let's prepare a random input image of a cat or dog from the training set.\u001b[0m\u001b[0;34m\u001b[0m\u001b[0;34m\u001b[0m\u001b[0;34m\u001b[0m\u001b[0m\n\u001b[0;32m---> 12\u001b[0;31m \u001b[0mcat_img_files\u001b[0m \u001b[0;34m=\u001b[0m \u001b[0;34m[\u001b[0m\u001b[0mos\u001b[0m\u001b[0;34m.\u001b[0m\u001b[0mpath\u001b[0m\u001b[0;34m.\u001b[0m\u001b[0mjoin\u001b[0m\u001b[0;34m(\u001b[0m\u001b[0mtrain_ate_dir\u001b[0m\u001b[0;34m,\u001b[0m \u001b[0mf\u001b[0m\u001b[0;34m)\u001b[0m \u001b[0;32mfor\u001b[0m \u001b[0mf\u001b[0m \u001b[0;32min\u001b[0m \u001b[0mtrain_ate_fnames\u001b[0m\u001b[0;34m]\u001b[0m\u001b[0;34m\u001b[0m\u001b[0;34m\u001b[0m\u001b[0m\n\u001b[0m\u001b[1;32m     13\u001b[0m \u001b[0mdog_img_files\u001b[0m \u001b[0;34m=\u001b[0m \u001b[0;34m[\u001b[0m\u001b[0mos\u001b[0m\u001b[0;34m.\u001b[0m\u001b[0mpath\u001b[0m\u001b[0;34m.\u001b[0m\u001b[0mjoin\u001b[0m\u001b[0;34m(\u001b[0m\u001b[0mtrain_car_dir\u001b[0m\u001b[0;34m,\u001b[0m \u001b[0mf\u001b[0m\u001b[0;34m)\u001b[0m \u001b[0;32mfor\u001b[0m \u001b[0mf\u001b[0m \u001b[0;32min\u001b[0m \u001b[0mtrain_car_fnames\u001b[0m\u001b[0;34m]\u001b[0m\u001b[0;34m\u001b[0m\u001b[0;34m\u001b[0m\u001b[0m\n\u001b[1;32m     14\u001b[0m \u001b[0mimg_path\u001b[0m \u001b[0;34m=\u001b[0m \u001b[0mrandom\u001b[0m\u001b[0;34m.\u001b[0m\u001b[0mchoice\u001b[0m\u001b[0;34m(\u001b[0m\u001b[0mcat_img_files\u001b[0m \u001b[0;34m+\u001b[0m \u001b[0mdog_img_files\u001b[0m\u001b[0;34m)\u001b[0m\u001b[0;34m\u001b[0m\u001b[0;34m\u001b[0m\u001b[0m\n",
      "\u001b[0;31mNameError\u001b[0m: name 'train_ate_fnames' is not defined"
     ]
    }
   ],
   "source": [
    "import numpy as np\n",
    "import random\n",
    "from tensorflow.keras.preprocessing.image import img_to_array, load_img\n",
    "\n",
    "# Let's define a new Model that will take an image as input, and will output\n",
    "# intermediate representations for all layers in the previous model after\n",
    "# the first.\n",
    "successive_outputs = [layer.output for layer in model.layers[1:]]\n",
    "visualization_model = Model(img_input, successive_outputs)\n",
    "\n",
    "# Let's prepare a random input image of a cat or dog from the training set.\n",
    "cat_img_files = [os.path.join(train_ate_dir, f) for f in train_ate_fnames]\n",
    "dog_img_files = [os.path.join(train_car_dir, f) for f in train_car_fnames]\n",
    "img_path = random.choice(cat_img_files + dog_img_files)\n",
    "\n",
    "img = load_img(img_path, target_size=target_size)  # this is a PIL image\n",
    "x = img_to_array(img)  # Numpy array with shape (150, 150, 3)\n",
    "x = x.reshape((1,) + x.shape)  # Numpy array with shape (1, 150, 150, 3)\n",
    "\n",
    "# Rescale by 1/255\n",
    "x /= 255\n",
    "\n",
    "# Let's run our image through our network, thus obtaining all\n",
    "# intermediate representations for this image.\n",
    "successive_feature_maps = visualization_model.predict(x)\n",
    "\n",
    "# These are the names of the layers, so can have them as part of our plot\n",
    "layer_names = [layer.name for layer in model.layers]\n",
    "\n",
    "# Now let's display our representations\n",
    "for layer_name, feature_map in zip(layer_names, successive_feature_maps):\n",
    "  if len(feature_map.shape) == 4:\n",
    "    # Just do this for the conv / maxpool layers, not the fully-connected layers\n",
    "    n_features = feature_map.shape[-1]  # number of features in feature map\n",
    "    # The feature map has shape (1, size, size, n_features)\n",
    "    size = feature_map.shape[1]\n",
    "    # We will tile our images in this matrix\n",
    "    display_grid = np.zeros((size, size * n_features))\n",
    "    for i in range(n_features):\n",
    "      # Postprocess the feature to make it visually palatable\n",
    "      x = feature_map[0, :, :, i]\n",
    "      x -= x.mean()\n",
    "      x /= x.std()\n",
    "      x *= 64\n",
    "      x += 128\n",
    "      x = np.clip(x, 0, 255).astype('uint8')\n",
    "      # We'll tile each filter into this big horizontal grid\n",
    "      display_grid[:, i * size : (i + 1) * size] = x\n",
    "    # Display the grid\n",
    "    scale = 20. / n_features\n",
    "    plt.figure(figsize=(scale * n_features, scale))\n",
    "    plt.title(layer_name)\n",
    "    plt.grid(False)\n",
    "    plt.imshow(display_grid, aspect='auto', cmap='viridis')"
   ]
  },
  {
   "cell_type": "markdown",
   "metadata": {
    "colab_type": "text",
    "id": "lgCwecDcS7hz"
   },
   "source": [
    "As you can see we go from the raw pixels of the images to increasingly abstract and compact representations. The representations downstream start highlighting what the network pays attention to, and they show fewer and fewer features being \"activated\"; most are set to zero. This is called \"sparsity.\" Representation sparsity is a key feature of deep learning.\n",
    "\n",
    "\n",
    "These representations carry increasingly less information about the original pixels of the image, but increasingly refined information about the class of the image. You can think of a convnet (or a deep network in general) as an information distillation pipeline."
   ]
  },
  {
   "cell_type": "markdown",
   "metadata": {
    "colab_type": "text",
    "id": "47oywZHbS7hy"
   },
   "source": [
    "### Evaluating Accuracy and Loss for the Model\n",
    "\n",
    "Let's plot the training/validation accuracy and loss as collected during training:"
   ]
  },
  {
   "cell_type": "code",
   "execution_count": 38,
   "metadata": {
    "colab": {},
    "colab_type": "code",
    "id": "r-QSJl_LS7hv"
   },
   "outputs": [
    {
     "ename": "NameError",
     "evalue": "name 'history' is not defined",
     "output_type": "error",
     "traceback": [
      "\u001b[0;31m---------------------------------------------------------------------------\u001b[0m",
      "\u001b[0;31mNameError\u001b[0m                                 Traceback (most recent call last)",
      "\u001b[0;32m<ipython-input-38-3bd01bbcf0ef>\u001b[0m in \u001b[0;36m<module>\u001b[0;34m\u001b[0m\n\u001b[1;32m      1\u001b[0m \u001b[0;31m# Retrieve a list of accuracy results on training and test data\u001b[0m\u001b[0;34m\u001b[0m\u001b[0;34m\u001b[0m\u001b[0;34m\u001b[0m\u001b[0m\n\u001b[1;32m      2\u001b[0m \u001b[0;31m# sets for each training epoch\u001b[0m\u001b[0;34m\u001b[0m\u001b[0;34m\u001b[0m\u001b[0;34m\u001b[0m\u001b[0m\n\u001b[0;32m----> 3\u001b[0;31m \u001b[0macc\u001b[0m \u001b[0;34m=\u001b[0m \u001b[0mhistory\u001b[0m\u001b[0;34m.\u001b[0m\u001b[0mhistory\u001b[0m\u001b[0;34m[\u001b[0m\u001b[0;34m'acc'\u001b[0m\u001b[0;34m]\u001b[0m\u001b[0;34m\u001b[0m\u001b[0;34m\u001b[0m\u001b[0m\n\u001b[0m\u001b[1;32m      4\u001b[0m \u001b[0mval_acc\u001b[0m \u001b[0;34m=\u001b[0m \u001b[0mhistory\u001b[0m\u001b[0;34m.\u001b[0m\u001b[0mhistory\u001b[0m\u001b[0;34m[\u001b[0m\u001b[0;34m'val_acc'\u001b[0m\u001b[0;34m]\u001b[0m\u001b[0;34m\u001b[0m\u001b[0;34m\u001b[0m\u001b[0m\n\u001b[1;32m      5\u001b[0m \u001b[0;34m\u001b[0m\u001b[0m\n",
      "\u001b[0;31mNameError\u001b[0m: name 'history' is not defined"
     ]
    }
   ],
   "source": [
    "# Retrieve a list of accuracy results on training and test data\n",
    "# sets for each training epoch\n",
    "acc = history.history['acc']\n",
    "val_acc = history.history['val_acc']\n",
    "\n",
    "# Retrieve a list of list results on training and test data\n",
    "# sets for each training epoch\n",
    "loss = history.history['loss']\n",
    "val_loss = history.history['val_loss']\n",
    "\n",
    "# Get number of epochs\n",
    "epochs = range(len(acc))\n",
    "\n",
    "# Plot training and validation accuracy per epoch\n",
    "plt.plot(epochs, acc)\n",
    "plt.plot(epochs, val_acc)\n",
    "plt.title('Training and validation accuracy')\n",
    "\n",
    "plt.figure()\n",
    "\n",
    "# Plot training and validation loss per epoch\n",
    "plt.plot(epochs, loss)\n",
    "plt.plot(epochs, val_loss)\n",
    "plt.title('Training and validation loss')"
   ]
  },
  {
   "cell_type": "markdown",
   "metadata": {
    "colab_type": "text",
    "id": "Ob_y8B1zS7hu"
   },
   "source": [
    "As you can see, we are **overfitting** like it's getting out of fashion. Our training accuracy (in blue) gets close to 100% (!) while our validation accuracy (in green) stalls as 70%. Our validation loss reaches its minimum after only five epochs.\n",
    "\n",
    "Since we have a relatively small number of training examples (2000), overfitting should be our number one concern. Overfitting happens when a model exposed to too few examples learns patterns that do not generalize to new data, i.e. when the model starts using irrelevant features for making predictions. For instance, if you, as a human, only see three images of people who are lumberjacks, and three images of people who are sailors, and among them the only person wearing a cap is a lumberjack, you might start thinking that wearing a cap is a sign of being a lumberjack as opposed to a sailor. You would then make a pretty lousy lumberjack/sailor classifier.\n",
    "\n",
    "Overfitting is the central problem in machine learning: given that we are fitting the parameters of our model to a given dataset, how can we make sure that the representations learned by the model will be applicable to data never seen before? How do we avoid learning things that are specific to the training data?\n",
    "\n",
    "In the next exercise, we'll look at ways to prevent overfitting in the cat vs. dog classification model."
   ]
  },
  {
   "cell_type": "markdown",
   "metadata": {
    "colab_type": "text",
    "id": "yvlm1GZWS7hs"
   },
   "source": [
    "## Clean Up\n",
    "\n",
    "Before running the next exercise, run the following cell to terminate the kernel and free memory resources:"
   ]
  },
  {
   "cell_type": "markdown",
   "metadata": {
    "colab": {},
    "colab_type": "code",
    "id": "1aLOf7R7S7hm"
   },
   "source": [
    "import os, signal\n",
    "os.kill(os.getpid(), signal.SIGKILL)"
   ]
  },
  {
   "cell_type": "code",
   "execution_count": null,
   "metadata": {},
   "outputs": [],
   "source": []
  }
 ],
 "metadata": {
  "accelerator": "GPU",
  "colab": {
   "collapsed_sections": [
    "QD3QSFHBS7h3",
    "yvlm1GZWS7hs"
   ],
   "name": "Thesis#1.ipynb",
   "provenance": [],
   "version": "0.3.2"
  },
  "kernelspec": {
   "display_name": "Python 3",
   "language": "python",
   "name": "python3"
  },
  "language_info": {
   "codemirror_mode": {
    "name": "ipython",
    "version": 3
   },
   "file_extension": ".py",
   "mimetype": "text/x-python",
   "name": "python",
   "nbconvert_exporter": "python",
   "pygments_lexer": "ipython3",
   "version": "3.6.8"
  }
 },
 "nbformat": 4,
 "nbformat_minor": 2
}
